{
 "cells": [
  {
   "cell_type": "code",
   "execution_count": 1,
   "metadata": {},
   "outputs": [],
   "source": [
    "import requests"
   ]
  },
  {
   "cell_type": "code",
   "execution_count": 24,
   "metadata": {},
   "outputs": [],
   "source": [
    "import pandas as pd"
   ]
  },
  {
   "cell_type": "code",
   "execution_count": 2,
   "metadata": {},
   "outputs": [],
   "source": [
    "url = \"https://services.last10k.com/v1/company/MSFT/balancesheet\"\n",
    "\n",
    "querystring = {\"formType\":\"10-K\",\"filingOrder\":\"0\"}\n",
    "\n",
    "headers = {\n",
    "    'Ocp-Apim-Subscription-Key': \"enter key here\",\n",
    "    'User-Agent': \"PostmanRuntime/7.17.1\",\n",
    "    'Accept': \"*/*\",\n",
    "    'Cache-Control': \"no-cache\",\n",
    "    'Postman-Token': \"7881f106-f896-4955-a20e-5a801d28fca7,bc355a62-2bb2-4229-a58a-6cc9666ffda6\",\n",
    "    'Host': \"services.last10k.com\",\n",
    "    'Accept-Encoding': \"gzip, deflate\",\n",
    "    'Connection': \"keep-alive\",\n",
    "    'cache-control': \"no-cache\"\n",
    "    }\n",
    "\n",
    "response = requests.request(\"GET\", url, headers=headers, params=querystring)"
   ]
  },
  {
   "cell_type": "code",
   "execution_count": 21,
   "metadata": {},
   "outputs": [],
   "source": [
    "result = {'company': [response.json()['Company']], 'data': [response.json()['Data']]}"
   ]
  },
  {
   "cell_type": "code",
   "execution_count": 6,
   "metadata": {},
   "outputs": [],
   "source": [
    "import json"
   ]
  },
  {
   "cell_type": "code",
   "execution_count": 12,
   "metadata": {},
   "outputs": [],
   "source": [
    "z = json.dumps(response.content.decode())"
   ]
  },
  {
   "cell_type": "code",
   "execution_count": 15,
   "metadata": {},
   "outputs": [
    {
     "data": {
      "text/plain": [
       "'{'"
      ]
     },
     "execution_count": 15,
     "metadata": {},
     "output_type": "execute_result"
    }
   ],
   "source": [
    "z[]"
   ]
  },
  {
   "cell_type": "code",
   "execution_count": 22,
   "metadata": {},
   "outputs": [
    {
     "data": {
      "text/plain": [
       "{'company': ['MICROSOFT CORP'],\n",
       " 'data': [{'CashAndCashEquivalentsAtCarryingValue': 11356000000.0,\n",
       "   'ShortTermInvestments': 122463000000.0,\n",
       "   'CashCashEquivalentsAndShortTermInvestments': 133819000000.0,\n",
       "   'AccountsReceivableNetCurrent': 29524000000.0,\n",
       "   'InventoryNet': 2063000000.0,\n",
       "   'OtherAssetsCurrent': 10146000000.0,\n",
       "   'AssetsCurrent': 175552000000.0,\n",
       "   'PropertyPlantAndEquipmentNet': 36477000000.0,\n",
       "   'OperatingLeaseRightOfUseAsset': 7379000000.0,\n",
       "   'LongTermInvestments': 2649000000.0,\n",
       "   'Goodwill': 42026000000.0,\n",
       "   'FiniteLivedIntangibleAssetsNet': 7750000000.0,\n",
       "   'OtherAssetsNoncurrent': 14723000000.0,\n",
       "   'Assets': 286556000000.0,\n",
       "   'AccountsPayableCurrent': 9382000000.0,\n",
       "   'LongTermDebtCurrent': 5516000000.0,\n",
       "   'EmployeeRelatedLiabilitiesCurrent': 6830000000.0,\n",
       "   'AccruedIncomeTaxesCurrent': 5665000000.0,\n",
       "   'ContractWithCustomerLiabilityCurrent': 32676000000.0,\n",
       "   'OtherLiabilitiesCurrent': 9351000000.0,\n",
       "   'LiabilitiesCurrent': 69420000000.0,\n",
       "   'LongTermDebtNoncurrent': 66662000000.0,\n",
       "   'AccruedIncomeTaxesNoncurrent': 29612000000.0,\n",
       "   'ContractWithCustomerLiabilityNoncurrent': 4530000000.0,\n",
       "   'DeferredTaxLiabilitiesNoncurrent': 233000000.0,\n",
       "   'OperatingLeaseLiabilityNoncurrent': 6188000000.0,\n",
       "   'OtherLiabilitiesNoncurrent': 7581000000.0,\n",
       "   'Liabilities': 184226000000.0,\n",
       "   'CommonStocksIncludingAdditionalPaidInCapital': 78520000000.0,\n",
       "   'RetainedEarningsAccumulatedDeficit': 24150000000.0,\n",
       "   'AccumulatedOtherComprehensiveIncomeLossNetOfTax': -340000000.0,\n",
       "   'StockholdersEquity': 102330000000.0,\n",
       "   'LiabilitiesAndStockholdersEquity': 286556000000.0}]}"
      ]
     },
     "execution_count": 22,
     "metadata": {},
     "output_type": "execute_result"
    }
   ],
   "source": [
    "result"
   ]
  },
  {
   "cell_type": "code",
   "execution_count": 25,
   "metadata": {},
   "outputs": [],
   "source": [
    "resultdf = pd.DataFrame(data=result)"
   ]
  },
  {
   "cell_type": "code",
   "execution_count": 28,
   "metadata": {},
   "outputs": [],
   "source": [
    "resultdf.to_csv(\"microsoft_10k_2018.csv\", index=False)"
   ]
  },
  {
   "cell_type": "code",
   "execution_count": null,
   "metadata": {},
   "outputs": [],
   "source": []
  }
 ],
 "metadata": {
  "kernelspec": {
   "display_name": "Python 3",
   "language": "python",
   "name": "python3"
  },
  "language_info": {
   "codemirror_mode": {
    "name": "ipython",
    "version": 3
   },
   "file_extension": ".py",
   "mimetype": "text/x-python",
   "name": "python",
   "nbconvert_exporter": "python",
   "pygments_lexer": "ipython3",
   "version": "3.6.8"
  }
 },
 "nbformat": 4,
 "nbformat_minor": 2
}
