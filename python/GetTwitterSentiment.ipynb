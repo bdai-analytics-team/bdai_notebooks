{
 "cells": [
  {
   "cell_type": "code",
   "execution_count": 3,
   "metadata": {},
   "outputs": [],
   "source": [
    "import re \n",
    "import tweepy \n",
    "from tweepy import OAuthHandler \n",
    "from textblob import TextBlob"
   ]
  },
  {
   "cell_type": "code",
   "execution_count": 4,
   "metadata": {},
   "outputs": [],
   "source": [
    "consumer_key = 'GIw0j8Nm3Qx9YYQCo5SLnqljh'\n",
    "consumer_secret = 'HMLyZMmeGbhV9hnQkYeAFKJp0ynPsVWri3RT4FHTxNwQ2gad3g'\n",
    "access_token = '2748454529-gTBtq6YTLRTRdMhUMiVISbFp3BPlP5pmfB9wRST'\n",
    "access_token_secret = '1Fofwl74IXKOxFLkLHgKK42nLKg65OA3PMaEyKIlkkFDF'"
   ]
  },
  {
   "cell_type": "code",
   "execution_count": 5,
   "metadata": {},
   "outputs": [],
   "source": [
    "auth = OAuthHandler(consumer_key, consumer_secret)\n",
    "auth.set_access_token(access_token, access_token_secret) \n",
    "api = tweepy.API(auth)"
   ]
  },
  {
   "cell_type": "code",
   "execution_count": 6,
   "metadata": {},
   "outputs": [],
   "source": [
    "def clean_tweet(self, tweet): \n",
    "    ''' \n",
    "    Utility function to clean tweet text by removing links, special characters \n",
    "    using simple regex statements. \n",
    "    '''\n",
    "    return ' '.join(re.sub(\"(@[A-Za-z0-9]+)|([^0-9A-Za-z \\t])|(\\w+:\\/\\/\\S+)\", \" \", tweet).split())"
   ]
  },
  {
   "cell_type": "code",
   "execution_count": null,
   "metadata": {},
   "outputs": [],
   "source": [
    "    def get_tweets(self, query, count): \n",
    "        ''' \n",
    "        Main function to fetch tweets and parse them. \n",
    "        '''\n",
    "        # empty list to store parsed tweets \n",
    "        tweets = [] \n",
    "  \n",
    "        try: \n",
    "            # call twitter api to fetch tweets \n",
    "            fetched_tweets = self.search(q = query, count = count) \n",
    "  \n",
    "            # parsing tweets one by one \n",
    "            for tweet in fetched_tweets: \n",
    "                # empty dictionary to store required params of a tweet \n",
    "                parsed_tweet = {} \n",
    "  \n",
    "                # saving text of tweet \n",
    "                parsed_tweet['text'] = tweet.text \n",
    "                # saving sentiment of tweet \n",
    "                parsed_tweet['sentiment'] = get_tweet_sentiment(api, tweet.text) \n",
    "  \n",
    "                # appending parsed tweet to tweets list \n",
    "                if tweet.retweet_count > 0: \n",
    "                    # if tweet has retweets, ensure that it is appended only once \n",
    "                    if parsed_tweet not in tweets: \n",
    "                        tweets.append(parsed_tweet) \n",
    "                else: \n",
    "                    tweets.append(parsed_tweet) \n",
    "  \n",
    "            # return parsed tweets \n",
    "            return tweets \n",
    "  \n",
    "        except tweepy.TweepError as e: \n",
    "            # print error (if any) \n",
    "            print(\"Error : \" + str(e)) "
   ]
  },
  {
   "cell_type": "code",
   "execution_count": null,
   "metadata": {},
   "outputs": [],
   "source": [
    "    def get_tweet_sentiment(self, tweet): \n",
    "        ''' \n",
    "        Utility function to classify sentiment of passed tweet \n",
    "        using textblob's sentiment method \n",
    "        '''\n",
    "        # create TextBlob object of passed tweet text \n",
    "        analysis = TextBlob(clean_tweet(api, tweet)) \n",
    "        # set sentiment \n",
    "        if analysis.sentiment.polarity > 0: \n",
    "            return 'positive'\n",
    "        elif analysis.sentiment.polarity == 0: \n",
    "            return 'neutral'\n",
    "        else: \n",
    "            return 'negative'"
   ]
  },
  {
   "cell_type": "code",
   "execution_count": 9,
   "metadata": {},
   "outputs": [
    {
     "name": "stdout",
     "output_type": "stream",
     "text": [
      "Positive tweets percentage: 34.11764705882353 %\n",
      "Negative tweets percentage: 15.294117647058824 %\n",
      "Neutral tweets percentage: 50.588235294117645 %  \n"
     ]
    }
   ],
   "source": [
    "tweets = get_tweets(api, query = 'stocks', count = 200) \n",
    "# picking positive tweets from tweets \n",
    "ptweets = [tweet for tweet in tweets if tweet['sentiment'] == 'positive'] \n",
    "# percentage of positive tweets \n",
    "print(\"Positive tweets percentage: {} %\".format(100*len(ptweets)/len(tweets))) \n",
    "# picking negative tweets from tweets \n",
    "ntweets = [tweet for tweet in tweets if tweet['sentiment'] == 'negative'] \n",
    "# percentage of negative tweets \n",
    "print(\"Negative tweets percentage: {} %\".format(100*len(ntweets)/len(tweets))) \n",
    "# percentage of neutral tweets \n",
    "print(\"Neutral tweets percentage: {} %  \".format(100*(len(tweets) - len(ntweets) - len(ptweets))/len(tweets))) "
   ]
  },
  {
   "cell_type": "code",
   "execution_count": 10,
   "metadata": {},
   "outputs": [
    {
     "data": {
      "text/plain": [
       "[{'text': 'RT @sosunm: me:\\nrandom business student sitting behind me in a elective class: we all got the same 24 hours, that’s why I wake up at 4 AM a…',\n",
       "  'sentiment': 'negative'},\n",
       " {'text': 'RT @eqibeat: NETEASE &amp; TENCENTS COMBINED NON-CHINA MOBILE REVENUE LEAPS 500%  https://t.co/11FTPkFrJe #China #gaming #stocks #online #mobil…',\n",
       "  'sentiment': 'neutral'},\n",
       " {'text': 'Low key, this close to selling my photo gear and putting it to stocks or sum shit',\n",
       "  'sentiment': 'negative'},\n",
       " {'text': 'RT @cuddletimekitty: me trying to access the part of my brain that makes me happy https://t.co/w1MiHDOT8s',\n",
       "  'sentiment': 'positive'},\n",
       " {'text': 'ハビックス&amp;lt;3895&amp;gt;のフィスコ二期業績予想（フィスコ）   https://t.co/r4EnHkXjVG',\n",
       "  'sentiment': 'neutral'},\n",
       " {'text': 'RT @dmuthuk: Only a small percentage of stocks contribute to wealth creation. So index has more losers than winners. By buying index we are…',\n",
       "  'sentiment': 'positive'},\n",
       " {'text': 'https://t.co/KLmRZNMTvb  Five of my best tips for finding momentum stocks! $ACGX $MMEX $BONT $FB $TWTR',\n",
       "  'sentiment': 'positive'},\n",
       " {'text': 'RT @SelinaStoller: Stocks making the biggest moves premarket: Hilton Worldwide, Dish Network, Deere, GM &amp; more #US #StockMarket https://t.c…',\n",
       "  'sentiment': 'positive'},\n",
       " {'text': \"I'm moving out soon so i gotta clear out my old stocks, pls help me give these seconds enamels pins and wooden pins… https://t.co/mZEAEog8qL\",\n",
       "  'sentiment': 'positive'},\n",
       " {'text': \"RT @SocialM85897394: France is a war zone. You won't see this on the BBC. Nor will you will be told how many protesters have hit the street…\",\n",
       "  'sentiment': 'positive'},\n",
       " {'text': 'RT @HisSights2: Hi everyone I’m selling the pins and keychain for RM15 each and holo sticker for rm8 each. This are the only stocks availab…',\n",
       "  'sentiment': 'neutral'},\n",
       " {'text': 'The keystones of cooking according to the father of French cooking , Auguste Escoffier is stocks, roux &amp; jus.',\n",
       "  'sentiment': 'neutral'},\n",
       " {'text': '@iSpiThey @OTC_Bitcoin Sell your wind stocks',\n",
       "  'sentiment': 'neutral'},\n",
       " {'text': 'I need to file my taxes and the money I get back from that I’m buying some more stocks 🤷🏾\\u200d♂️',\n",
       "  'sentiment': 'positive'},\n",
       " {'text': 'RT @realDonaldTrump: I will be strongly pushing Comprehensive Background Checks with an emphasis on Mental Health. Raise age to 21 and end…',\n",
       "  'sentiment': 'positive'},\n",
       " {'text': \"RT @CNBC: Here are the stocks Warren Buffett says he's betting on for the long run https://t.co/li2kXULZKW\",\n",
       "  'sentiment': 'negative'},\n",
       " {'text': 'Analysts recommended an average rating score of 2.00 for Synopsys, Inc. (SNPS) https://t.co/q8xC5bNfI2 $SNPS #stocks #stockmarket',\n",
       "  'sentiment': 'negative'},\n",
       " {'text': 'RT @listenshahid: There has been an acute shortage of fuel. Stocks almost for a day. With additional fleet of 250 tankers reaching in few h…',\n",
       "  'sentiment': 'positive'},\n",
       " {'text': 'Brexit and Trade Talk Overshadowed the Stats and Central Banks in the Week https://t.co/EaZJJJxgNy https://t.co/Gydvh4RHHz',\n",
       "  'sentiment': 'neutral'},\n",
       " {'text': 'Titan Machinery Inc. $TITN Expected to Post Earnings of $0.02 Per Share https://t.co/rzz0HOz8O4 #stocks',\n",
       "  'sentiment': 'negative'},\n",
       " {'text': 'Stocks to Watch in the Vape Trade https://t.co/v1nNCzKzy7 https://t.co/y7BfKtB4Je',\n",
       "  'sentiment': 'neutral'},\n",
       " {'text': 'Forex\\nTrading is the world’s largest marketplace and access over 70\\u2063\\n\\nforex pairs https://t.co/QlAnqYpsqd #forex… https://t.co/RqIBS0Qa2F',\n",
       "  'sentiment': 'neutral'},\n",
       " {'text': 'Zacks: Brokerages Anticipate Umpqua Holdings Corp $UMPQ to Announce $0.39 EPS https://t.co/xXqHR6TmTN #stocks',\n",
       "  'sentiment': 'neutral'},\n",
       " {'text': 'EXACT Sciences Co. $EXAS Expected to Announce Earnings of -$0.44 Per Share https://t.co/tegMHD738E #stocks',\n",
       "  'sentiment': 'positive'},\n",
       " {'text': 'Applied Materials, Inc. $AMAT Expected to Announce Earnings of $0.66 Per Share https://t.co/6OXiABk33Z #stocks',\n",
       "  'sentiment': 'negative'},\n",
       " {'text': 'Zacks: Brokerages Anticipate Yext Inc $YEXT to Announce -$0.09 Earnings Per Share https://t.co/1b9blNgtAR #stocks',\n",
       "  'sentiment': 'neutral'},\n",
       " {'text': '$0.64 Earnings Per Share Expected for Meritage Homes Corp $MTH This Quarter https://t.co/SxHwNV7lgp #stocks',\n",
       "  'sentiment': 'negative'},\n",
       " {'text': 'Williams Partners $WPZ vs. Enterprise Products Partners $EPD Critical Contrast https://t.co/Z7PhVVmRtP #stocks',\n",
       "  'sentiment': 'neutral'},\n",
       " {'text': 'Zacks: Brokerages Expect AT&amp;T Inc. $T Will Announce Earnings of $0.87 Per Share https://t.co/rV8pJuCBiH #stocks',\n",
       "  'sentiment': 'neutral'},\n",
       " {'text': 'Banco Santander Brasil $BSBR versus Esquire Financial $ESQ Critical Comparison https://t.co/Y9Z7xsV5d0 #stocks',\n",
       "  'sentiment': 'neutral'},\n",
       " {'text': '@APompliano STEM IS THE FUTURE SO IS AI but that’s a poignant point what tech stocks do u like ? I love my military… https://t.co/Y0CjMvUQOL',\n",
       "  'sentiment': 'positive'},\n",
       " {'text': '$0.48 EPS Expected for Cadence Bancorp $CADE This Quarter https://t.co/eVABYBd02q #stocks',\n",
       "  'sentiment': 'negative'},\n",
       " {'text': 'Zacks: Analysts Expect Agilent Technologies Inc $A to Post $0.71 EPS https://t.co/vzww75ADFx #stocks',\n",
       "  'sentiment': 'neutral'},\n",
       " {'text': 'Zacks: Brokerages Anticipate Tutor Perini Corp $TPC to Announce $0.81 EPS https://t.co/K18zPpgbwM #stocks',\n",
       "  'sentiment': 'neutral'},\n",
       " {'text': \"@Callum_Thomas I'm freaking out! Unless this snaps back to positive quick (In which case buy stocks) then we should… https://t.co/GG5BfbReIK\",\n",
       "  'sentiment': 'positive'},\n",
       " {'text': '$1.40 Earnings Per Share Expected for Progressive Corp $PGR This Quarter https://t.co/b56kWWKSKl #stocks',\n",
       "  'sentiment': 'negative'},\n",
       " {'text': 'Zacks: Brokerages Expect Pennsylvania R.E.I.T. $PEI to Announce $0.25 Earnings Per Share https://t.co/QdMOGKPjBx #stocks',\n",
       "  'sentiment': 'neutral'},\n",
       " {'text': 'Head-To-Head Analysis: Jernigan Capital $JCAP vs. Industrial Logistics Properties Trust $ILPT https://t.co/1ziAkDj1us #stocks',\n",
       "  'sentiment': 'neutral'},\n",
       " {'text': 'RT @dotCoENT: #CryptoCurrencies Crypto Business Agent CoENT™\\n#CRYPTO #CryptoCurrency #GoGoCoENT 𝑑𝑜𝑡CoENT\\n__\\n#BusinessIntelligence #Business…',\n",
       "  'sentiment': 'neutral'},\n",
       " {'text': 'Blue chip #stocks are at the core of any good #investing plan. Here’s how to find the best ones to invest in now. https://t.co/BkoBxhl3D9',\n",
       "  'sentiment': 'positive'},\n",
       " {'text': '#AppIndoorShowdown - Beginner Box Stocks are on track for their feature. Don’t miss it. Follow Speed51’s Race Day N… https://t.co/LPq9eUA90d',\n",
       "  'sentiment': 'neutral'},\n",
       " {'text': 'Unseeded Zelda player from NorCal 3 stocks Mr E at CEO',\n",
       "  'sentiment': 'neutral'},\n",
       " {'text': 'RT @colfinancial: If you can afford a daily frap or cappuccino habit, you can afford to start growing your savings by investing it in stock…',\n",
       "  'sentiment': 'neutral'},\n",
       " {'text': '@Camrrryy It’s definitely the move. You should check out https://t.co/wgYlWhODlb. It has free videos on how to invest in stocks',\n",
       "  'sentiment': 'positive'},\n",
       " {'text': 'RT @OneAhgaseGot7: @stanGotBangtan @GOT7Official GOT7 after increasing JYP’s stocks &amp; revenues: \\n\\n#GOT7 @GOT7Official \\nhttps://t.co/Erps3SM…',\n",
       "  'sentiment': 'neutral'},\n",
       " {'text': 'Hey guys here is @newsomenuggets one of the speakers at the https://t.co/NUh8Mf95tY check it out and come join us f… https://t.co/WVrelA7Ymq',\n",
       "  'sentiment': 'neutral'},\n",
       " {'text': 'Direct Energy To Sell Its Franchisee Home Services Business, Clockwork, Inc https://t.co/4lfpUNWF2A',\n",
       "  'sentiment': 'positive'},\n",
       " {'text': 'RT @macroaxis: Essex Property ($ESS) buy or sell recommendation is STRONG HOLD https://t.co/qeIok6r78Q #stocks #news #wallstreet',\n",
       "  'sentiment': 'positive'},\n",
       " {'text': '50 day crossover in large value internet security stocks is risk off for long term managers thinks Orange Man.',\n",
       "  'sentiment': 'positive'},\n",
       " {'text': 'Pay attention to the Margin Debt chart below. This declined YoY in 2001/2008/2012/2016 and now. If it snaps back to… https://t.co/IGWEMxMPI5',\n",
       "  'sentiment': 'neutral'},\n",
       " {'text': \"Here are the stocks Warren Buffett says he's betting on for the long…\\n @CNBC \\nhttps://t.co/1nJbBPHOSv #WarrenBuffett #Economy\",\n",
       "  'sentiment': 'negative'},\n",
       " {'text': '@dizzfila You made me lots of money in Twitch stocks ty',\n",
       "  'sentiment': 'neutral'},\n",
       " {'text': '@MalibuPrivate The Slo-Sto 20 low\\n\\nThis setup shows when a stocks slow stochastics reading is at 20 reading or lowe… https://t.co/VjoC7GZkJT',\n",
       "  'sentiment': 'negative'},\n",
       " {'text': 'Southwest Airlines Needs to Make Peace With Its Mechanics ASAP @themotleyfool #stocks $LUV https://t.co/wYEwcsPvJm.… https://t.co/l8oq00QidN',\n",
       "  'sentiment': 'neutral'},\n",
       " {'text': '@Maxwell_Du Facts. Unfortunately a lot of people thinking with the opposite mindset. If you’re really trying learn… https://t.co/PBN5map33d',\n",
       "  'sentiment': 'negative'},\n",
       " {'text': 'RT @PotStocks420: An Aurora Cannabis forecast for 2019 $ACB $ACB.TO #potstocks #investing https://t.co/h6riAYVBlJ',\n",
       "  'sentiment': 'neutral'},\n",
       " {'text': '@cmpmendes @bancadadeleao @diogomlbernardo Longe do ideal? Os meus avós tiveram uma tasca numa aldeia da Beira Alta… https://t.co/CAMR6Vrh4n',\n",
       "  'sentiment': 'positive'},\n",
       " {'text': '@jaidibear81 @for_viv @xenavamoux @TeeBryanToo @TheGoodGodAbove @johniadarola We are.  We are fixing our southern b… https://t.co/xvwdLUPCcu',\n",
       "  'sentiment': 'neutral'},\n",
       " {'text': 'GET Actionable #Markets Analysis, #Trading Ideas &amp; Plans to your Inbox for #Stocks #Fx #Options #Futures &amp; More&gt;… https://t.co/yMMP1nMbob',\n",
       "  'sentiment': 'positive'},\n",
       " {'text': '@endmoore12785 @_RealImmigrant_ @realDonaldTrump Those Billions of dollars actually are from a lot of government TA… https://t.co/DwLH1bSBhD',\n",
       "  'sentiment': 'neutral'},\n",
       " {'text': 'day trading, Elliott wave, education Quotes  stocks forex options cfd futures markets day trading, Elliott wave, ed… https://t.co/788MvbOaDV',\n",
       "  'sentiment': 'neutral'},\n",
       " {'text': 'Time to invest in missile, bombs and arms stocks https://t.co/pymakGYO0B',\n",
       "  'sentiment': 'neutral'},\n",
       " {'text': 'RT @ThrowinTrades: $LMR / $LMRMF  very strong week.. anticipation of their drill results is building! Huge updates in the works \\n\\nJoin myse…',\n",
       "  'sentiment': 'positive'},\n",
       " {'text': 'RT@AmazngKindles Read the interview with author Roma Calatayud-Stocks. https://t.co/bVSGV5x2wv https://t.co/KpHNOpXI7z #music #histfic /\\n&amp;|',\n",
       "  'sentiment': 'neutral'},\n",
       " {'text': 'RT @charliebilello: The best and worst performing stocks in the S&amp;P 500 over the last 20 years... \\n\\n(note: yes, major survivorship bias) ht…',\n",
       "  'sentiment': 'positive'},\n",
       " {'text': 'RT @yurumazu: バフェット氏がバークシャーハサウエイの株主に毎年送る手紙を読んでいます。今年のものは今日でました。いくつか面白い部分を紹介します。\\n「My expectation of more stock purchases is not a market cal…',\n",
       "  'sentiment': 'positive'},\n",
       " {'text': 'Bruno Fernando is one of 5 players who I think his #NBA draft stock is WAY underrated.   Full list:  https://t.co/LD2WPaEgOw',\n",
       "  'sentiment': 'positive'},\n",
       " {'text': 'RT @WallStJesus: #VIP stocks for hedge funds .. https://t.co/qGWiz1QuSH',\n",
       "  'sentiment': 'neutral'},\n",
       " {'text': 'Hi everyone I’m selling the pins and keychain for RM15 each and holo sticker for rm8 each. This are the only stocks… https://t.co/0twrrLe12W',\n",
       "  'sentiment': 'neutral'},\n",
       " {'text': '@trendandvalue I do .NET. Have never programmed in Python. Actually never did a program for stocks in any way.\\nWhat would Python buy you?',\n",
       "  'sentiment': 'neutral'},\n",
       " {'text': 'RT @morenitomarcus: The stock market is so versatile.\\n\\nWe have:\\n\\nOptions\\nMutual Funds\\nStocks\\nETFs\\nREITs\\n\\nMan... \\n\\nAnything from short term…',\n",
       "  'sentiment': 'neutral'},\n",
       " {'text': 'Essex Property ($ESS) buy or sell recommendation is STRONG HOLD https://t.co/qeIok6r78Q #stocks #news #wallstreet',\n",
       "  'sentiment': 'positive'},\n",
       " {'text': 'Is It Time To Consider Buying U.S. Physical Therapy, Inc. (NYSE:USPH)? - Simply Wall St via https://t.co/AEUe3aAno7 #PhysicalTherapy',\n",
       "  'sentiment': 'neutral'},\n",
       " {'text': 'ジューテックホールディングス&amp;lt;3157&amp;gt;のフィスコ二期業績予想（フィスコ）   https://t.co/4FaRZkMWhT',\n",
       "  'sentiment': 'neutral'},\n",
       " {'text': '💵💰Love to trade , check us out , use promo code Twitter1 50% off https://t.co/lizapHLGr2 #stocks #trading #money… https://t.co/QnSNBUnpSK',\n",
       "  'sentiment': 'positive'},\n",
       " {'text': 'When you’re picking stocks, consider the CEOs who have learned from the best: Jim Cramer https://t.co/vioDEBd37l\\n\\nP… https://t.co/C3SKOnlu6x',\n",
       "  'sentiment': 'positive'},\n",
       " {'text': 'RT @JoeySalads: The Left thinks if someone is worth $1B that they have $1B sitting in the bank when in reality 90%+ of that wealth it is as…',\n",
       "  'sentiment': 'positive'},\n",
       " {'text': '@TBECarter finna buy some twitch stocks on this kid',\n",
       "  'sentiment': 'neutral'},\n",
       " {'text': '#VIP stocks for hedge funds .. https://t.co/qGWiz1QuSH',\n",
       "  'sentiment': 'neutral'},\n",
       " {'text': '【明日注目すべき【好決算】銘柄 マミヤＯＰ、ミロク情報 (22日大引け後 発表分)（株探ニュース）】を投稿しました。 https://t.co/66GfUINjS8',\n",
       "  'sentiment': 'neutral'},\n",
       " {'text': 'RT @listenshahid: 508 Tankers carrying Petrol Diesel &amp; petroleum products are between Chenani and Banihal. Expect stocks to be replenished…',\n",
       "  'sentiment': 'neutral'},\n",
       " {'text': 'Today&amp;#39;s Hot Stock Under Review: The Walt Disney Company (NYSE: DIS) https://t.co/1FAnRJIqCj $DIS #stocks #stockmarket',\n",
       "  'sentiment': 'positive'},\n",
       " {'text': 'RT @BMTheEquityDesk: When the broad markets capitulate, quality mid &amp; small caps with 18%+ RoE, trade at 8 to 10x trailing P/E; 3% to 5% di…',\n",
       "  'sentiment': 'negative'},\n",
       " {'text': 'MetLife Inc Valuation - January 2019 $MET - #valueinvesting #investing #stocks #stockmarket https://t.co/UXYIF0ufYl',\n",
       "  'sentiment': 'neutral'},\n",
       " {'text': 'Subscribe Here to get a few chapters for FREE from the book https://t.co/BRgV3qL4or Please #RT #gold #silver… https://t.co/LcxhotD4q7',\n",
       "  'sentiment': 'positive'}]"
      ]
     },
     "execution_count": 10,
     "metadata": {},
     "output_type": "execute_result"
    }
   ],
   "source": [
    "tweets"
   ]
  },
  {
   "cell_type": "code",
   "execution_count": 1,
   "metadata": {},
   "outputs": [],
   "source": [
    "from pymongo import MongoClient"
   ]
  },
  {
   "cell_type": "code",
   "execution_count": 2,
   "metadata": {},
   "outputs": [],
   "source": [
    "import dns\n",
    "client = MongoClient(\"askformongouri\")\n",
    "db = client.test"
   ]
  },
  {
   "cell_type": "code",
   "execution_count": 11,
   "metadata": {},
   "outputs": [
    {
     "data": {
      "text/plain": [
       "<pymongo.results.InsertManyResult at 0x10b280788>"
      ]
     },
     "execution_count": 11,
     "metadata": {},
     "output_type": "execute_result"
    }
   ],
   "source": [
    "db.inventory.insert_many(\n",
    "    # MongoDB adds the _id field with an ObjectId if _id is not present\n",
    "    tweets\n",
    ")"
   ]
  },
  {
   "cell_type": "code",
   "execution_count": null,
   "metadata": {},
   "outputs": [],
   "source": []
  }
 ],
 "metadata": {
  "kernelspec": {
   "display_name": "Python 3",
   "language": "python",
   "name": "python3"
  },
  "language_info": {
   "codemirror_mode": {
    "name": "ipython",
    "version": 3
   },
   "file_extension": ".py",
   "mimetype": "text/x-python",
   "name": "python",
   "nbconvert_exporter": "python",
   "pygments_lexer": "ipython3",
   "version": "3.6.8"
  }
 },
 "nbformat": 4,
 "nbformat_minor": 2
}
